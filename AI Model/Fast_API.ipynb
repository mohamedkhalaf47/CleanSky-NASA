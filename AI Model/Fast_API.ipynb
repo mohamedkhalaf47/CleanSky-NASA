{
  "nbformat": 4,
  "nbformat_minor": 0,
  "metadata": {
    "colab": {
      "provenance": []
    },
    "kernelspec": {
      "name": "python3",
      "display_name": "Python 3"
    },
    "language_info": {
      "name": "python"
    }
  },
  "cells": [
    {
      "cell_type": "code",
      "source": [
        "from google.colab import drive\n",
        "drive.mount('/content/drive')\n"
      ],
      "metadata": {
        "colab": {
          "base_uri": "https://localhost:8080/"
        },
        "id": "QVYnT_llRH5K",
        "outputId": "d13e5b61-22d9-44d2-e183-55c76edfa588"
      },
      "execution_count": 2,
      "outputs": [
        {
          "output_type": "stream",
          "name": "stdout",
          "text": [
            "Mounted at /content/drive\n"
          ]
        }
      ]
    },
    {
      "cell_type": "code",
      "source": [
        "\n",
        "from fastapi import FastAPI\n",
        "from pydantic import BaseModel\n",
        "from typing import List\n",
        "import numpy as np\n",
        "import pandas as pd\n",
        "from tensorflow.keras.models import load_model\n",
        "import joblib\n",
        "\n",
        "MODEL_PATH = \"/content/drive/MyDrive/ML_Models/weather_lstm_model.h5\"\n",
        "SCALER_PATH = \"/content/drive/MyDrive/ML_Models/scaler.save\"\n",
        "\n",
        "# تحميل المودل والـ scaler مرة واحدة عند تشغيل السيرفر\n",
        "model = load_model(MODEL_PATH, custom_objects={'mse': 'mse'})\n",
        "scaler = joblib.load(SCALER_PATH)\n",
        "\n",
        "# إعداد بعض المتغيرات (تأكد إنها متوافقة مع بياناتك)\n",
        "n_past = 7  # عدد الأيام السابقة\n",
        "features = ['SW_down', 'dewpoint_2m_C', 'temperature_2m_C']\n",
        "n_features = len(features)\n",
        "n_future = 90  # عدد الأيام المراد التنبؤ بها\n",
        "\n",
        "# ---------------------------\n",
        "# 3) إنشاء FastAPI app\n",
        "# ---------------------------\n",
        "app = FastAPI(title=\"Weather Forecast API\")\n",
        "\n",
        "class ForecastRequest(BaseModel):\n",
        "    last_known_days: List[List[float]]  # آخر n_past يوم لكل feature\n",
        "    n_days_forecast: int = 90           # عدد الأيام المراد التنبؤ بها\n",
        "\n",
        "@app.post(\"/predict\")\n",
        "def predict(request: ForecastRequest):\n",
        "    last_window = np.array(request.last_known_days)\n",
        "\n",
        "    # التأكد من شكل الـ input\n",
        "    if last_window.shape != (n_past, n_features):\n",
        "        return {\"error\": f\"last_known_days shape must be ({n_past}, {n_features})\"}\n",
        "\n",
        "    # تطبيع البيانات\n",
        "    current_window = scaler.transform(last_window)\n",
        "    predictions = []\n",
        "\n",
        "    # تنبؤ متسلسل (recursive) لكل الأيام المطلوبة\n",
        "    for _ in range(request.n_days_forecast):\n",
        "        pred = model.predict(current_window.reshape(1, n_past, n_features), verbose=0)\n",
        "        predictions.append(pred[0])\n",
        "        # تحديث النافذة بإزالة أول يوم وإضافة اليوم المتوقع\n",
        "        current_window = np.vstack([current_window[1:], pred])\n",
        "\n",
        "    # تحويل القيم للحجم الأصلي\n",
        "    predictions = scaler.inverse_transform(predictions)\n",
        "\n",
        "    # تجهيز النتيجة\n",
        "    forecast_df = pd.DataFrame(predictions, columns=features)\n",
        "    return forecast_df.to_dict(orient='records')\n"
      ],
      "metadata": {
        "colab": {
          "base_uri": "https://localhost:8080/"
        },
        "id": "XiRLrZkPQ0dJ",
        "outputId": "60f85109-8e0f-4333-9400-9d2794f67a79"
      },
      "execution_count": 3,
      "outputs": [
        {
          "output_type": "stream",
          "name": "stderr",
          "text": [
            "WARNING:absl:Compiled the loaded model, but the compiled metrics have yet to be built. `model.compile_metrics` will be empty until you train or evaluate the model.\n"
          ]
        }
      ]
    }
  ]
}